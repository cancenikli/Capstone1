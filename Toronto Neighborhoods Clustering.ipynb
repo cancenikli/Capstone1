{
 "cells": [
  {
   "cell_type": "markdown",
   "metadata": {},
   "source": [
    "This Notebook will be mainly used for Capstone project of Coursera"
   ]
  },
  {
   "cell_type": "code",
   "execution_count": 124,
   "metadata": {},
   "outputs": [],
   "source": [
    "import pandas as pd\n",
    "import numpy as np"
   ]
  },
  {
   "cell_type": "code",
   "execution_count": 125,
   "metadata": {},
   "outputs": [
    {
     "data": {
      "text/plain": [
       "(103, 3)"
      ]
     },
     "execution_count": 125,
     "metadata": {},
     "output_type": "execute_result"
    }
   ],
   "source": [
    "#Assigning url to a variable\n",
    "url1 = 'http://en.wikipedia.org/wiki/List_of_postal_codes_of_Canada:_M'\n",
    "#Fetching table by using pandas read_html method\n",
    "table1 = pd.read_html('https://en.wikipedia.org/wiki/List_of_postal_codes_of_Canada:_M')\n",
    "\n",
    "# We only need part of the fetched object\n",
    "postal_code = table1[0]\n",
    "\n",
    "#removing not assigned boroughs\n",
    "for item in range(len(postal_code['Borough'])):\n",
    "    if postal_code.loc[item]['Borough'] == 'Not assigned':\n",
    "        postal_code.drop(item,inplace=True)\n",
    "\n",
    "# removing / and putting ,\n",
    "for item in range(len(postal_code['Neighborhood'])):\n",
    "    postal_code.iloc[item]['Neighborhood']=postal_code.iloc[item]['Neighborhood'].replace('/',',')\n",
    "\n",
    "postal_code.shape"
   ]
  }
 ],
 "metadata": {
  "kernelspec": {
   "display_name": "Python 3",
   "language": "python",
   "name": "python3"
  },
  "language_info": {
   "codemirror_mode": {
    "name": "ipython",
    "version": 3
   },
   "file_extension": ".py",
   "mimetype": "text/x-python",
   "name": "python",
   "nbconvert_exporter": "python",
   "pygments_lexer": "ipython3",
   "version": "3.7.7"
  }
 },
 "nbformat": 4,
 "nbformat_minor": 4
}
